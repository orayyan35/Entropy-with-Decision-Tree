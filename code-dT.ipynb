{
 "cells": [
  {
   "cell_type": "code",
   "execution_count": 3,
   "metadata": {},
   "outputs": [],
   "source": [
    "import math\n",
    "import pandas as pd"
   ]
  },
  {
   "cell_type": "markdown",
   "metadata": {},
   "source": [
    "## Decision tree (Entropy Function and Information Gain)"
   ]
  },
  {
   "cell_type": "markdown",
   "metadata": {},
   "source": [
    "--------"
   ]
  },
  {
   "cell_type": "markdown",
   "metadata": {},
   "source": [
    "## step 1 : "
   ]
  },
  {
   "cell_type": "markdown",
   "metadata": {},
   "source": [
    "# how i create node : \n",
    "#### - the attribute that best classifies the trining data  , use this attribute at the root od the tree "
   ]
  },
  {
   "cell_type": "markdown",
   "metadata": {},
   "source": [
    "# calculate { Entropy }"
   ]
  },
  {
   "cell_type": "markdown",
   "metadata": {},
   "source": [
    "##### what the Entropy ..?"
   ]
  },
  {
   "cell_type": "markdown",
   "metadata": {},
   "source": [
    "the Entropy is amount of the uncertainty in data set"
   ]
  },
  {
   "cell_type": "markdown",
   "metadata": {},
   "source": [
    "#### You can find the law in Figure 1"
   ]
  },
  {
   "cell_type": "markdown",
   "metadata": {},
   "source": [
    "# calculate { avg Entropy }"
   ]
  },
  {
   "cell_type": "markdown",
   "metadata": {},
   "source": [
    "#### You can find the law in Figure 2"
   ]
  },
  {
   "cell_type": "markdown",
   "metadata": {},
   "source": [
    "# calculate {  information gain } Difference  in entopy befor and after splitting data set in attribute "
   ]
  },
  {
   "cell_type": "markdown",
   "metadata": {},
   "source": [
    "#### You can find the law in Figure 3"
   ]
  },
  {
   "cell_type": "markdown",
   "metadata": {},
   "source": [
    "----"
   ]
  },
  {
   "cell_type": "markdown",
   "metadata": {},
   "source": [
    "#  step compute the entropy "
   ]
  },
  {
   "cell_type": "markdown",
   "metadata": {},
   "source": [
    "- compute the entropy for data set entropy (s)"
   ]
  },
  {
   "cell_type": "markdown",
   "metadata": {},
   "source": [
    "- for evert arrtibute / feature  : \n",
    "   - claculte entropy for all onnther values entropy \n",
    "   - take avg information entropy for the currnt attribute \n",
    "   - calcute gain for the current attribute "
   ]
  },
  {
   "cell_type": "markdown",
   "metadata": {},
   "source": [
    "- pick the highest gain attribute "
   ]
  },
  {
   "cell_type": "markdown",
   "metadata": {},
   "source": [
    "- repete unitl we get the tree we desired "
   ]
  },
  {
   "cell_type": "markdown",
   "metadata": {},
   "source": [
    "example  : \n",
    "\n"
   ]
  },
  {
   "cell_type": "code",
   "execution_count": 4,
   "metadata": {},
   "outputs": [],
   "source": [
    "data = {\n",
    "    \n",
    "    \"outlook\": [\"sunny\", \"sunny\", \"overcast\", \"rainy\", \"rainy\", \"rainy\", \"overcast\", \"sunny\", \"sunny\", \"rainy\", \"sunny\", \"overcast\", \"overcast\", \"rainy\"],\n",
    "    \"humidity\": [\"high\", \"high\", \"high\", \"high\", \"normal\", \"normal\", \"normal\", \"high\", \"normal\", \"normal\", \"normal\", \"high\", \"normal\", \"high\"],\n",
    "    \"temperature\": [\"hot\", \"hot\", \"hot\", \"mild\", \"cool\", \"cool\", \"cool\", \"mild\", \"cool\", \"mild\", \"mild\", \"mild\", \"hot\", \"mild\"],\n",
    "    \"windy\": [\"weak\", \"strong\", \"weak\", \"weak\", \"weak\", \"strong\", \"strong\", \"weak\", \"weak\", \"weak\", \"strong\", \"strong\", \"weak\", \"strong\"],\n",
    "    \"play_tennis\": [\"no\", \"no\", \"yes\", \"yes\", \"yes\", \"no\", \"yes\", \"no\", \"yes\", \"yes\", \"yes\", \"yes\", \"yes\", \"no\"]\n",
    "}\n",
    "\n",
    "\n",
    "\n"
   ]
  },
  {
   "cell_type": "code",
   "execution_count": 5,
   "metadata": {},
   "outputs": [],
   "source": [
    "df = pd.DataFrame(data)\n"
   ]
  },
  {
   "cell_type": "code",
   "execution_count": 6,
   "metadata": {},
   "outputs": [
    {
     "data": {
      "text/html": [
       "<div>\n",
       "<style scoped>\n",
       "    .dataframe tbody tr th:only-of-type {\n",
       "        vertical-align: middle;\n",
       "    }\n",
       "\n",
       "    .dataframe tbody tr th {\n",
       "        vertical-align: top;\n",
       "    }\n",
       "\n",
       "    .dataframe thead th {\n",
       "        text-align: right;\n",
       "    }\n",
       "</style>\n",
       "<table border=\"1\" class=\"dataframe\">\n",
       "  <thead>\n",
       "    <tr style=\"text-align: right;\">\n",
       "      <th></th>\n",
       "      <th>outlook</th>\n",
       "      <th>humidity</th>\n",
       "      <th>temperature</th>\n",
       "      <th>windy</th>\n",
       "      <th>play_tennis</th>\n",
       "    </tr>\n",
       "  </thead>\n",
       "  <tbody>\n",
       "    <tr>\n",
       "      <th>0</th>\n",
       "      <td>sunny</td>\n",
       "      <td>high</td>\n",
       "      <td>hot</td>\n",
       "      <td>weak</td>\n",
       "      <td>no</td>\n",
       "    </tr>\n",
       "    <tr>\n",
       "      <th>1</th>\n",
       "      <td>sunny</td>\n",
       "      <td>high</td>\n",
       "      <td>hot</td>\n",
       "      <td>strong</td>\n",
       "      <td>no</td>\n",
       "    </tr>\n",
       "    <tr>\n",
       "      <th>2</th>\n",
       "      <td>overcast</td>\n",
       "      <td>high</td>\n",
       "      <td>hot</td>\n",
       "      <td>weak</td>\n",
       "      <td>yes</td>\n",
       "    </tr>\n",
       "    <tr>\n",
       "      <th>3</th>\n",
       "      <td>rainy</td>\n",
       "      <td>high</td>\n",
       "      <td>mild</td>\n",
       "      <td>weak</td>\n",
       "      <td>yes</td>\n",
       "    </tr>\n",
       "    <tr>\n",
       "      <th>4</th>\n",
       "      <td>rainy</td>\n",
       "      <td>normal</td>\n",
       "      <td>cool</td>\n",
       "      <td>weak</td>\n",
       "      <td>yes</td>\n",
       "    </tr>\n",
       "    <tr>\n",
       "      <th>5</th>\n",
       "      <td>rainy</td>\n",
       "      <td>normal</td>\n",
       "      <td>cool</td>\n",
       "      <td>strong</td>\n",
       "      <td>no</td>\n",
       "    </tr>\n",
       "    <tr>\n",
       "      <th>6</th>\n",
       "      <td>overcast</td>\n",
       "      <td>normal</td>\n",
       "      <td>cool</td>\n",
       "      <td>strong</td>\n",
       "      <td>yes</td>\n",
       "    </tr>\n",
       "    <tr>\n",
       "      <th>7</th>\n",
       "      <td>sunny</td>\n",
       "      <td>high</td>\n",
       "      <td>mild</td>\n",
       "      <td>weak</td>\n",
       "      <td>no</td>\n",
       "    </tr>\n",
       "    <tr>\n",
       "      <th>8</th>\n",
       "      <td>sunny</td>\n",
       "      <td>normal</td>\n",
       "      <td>cool</td>\n",
       "      <td>weak</td>\n",
       "      <td>yes</td>\n",
       "    </tr>\n",
       "    <tr>\n",
       "      <th>9</th>\n",
       "      <td>rainy</td>\n",
       "      <td>normal</td>\n",
       "      <td>mild</td>\n",
       "      <td>weak</td>\n",
       "      <td>yes</td>\n",
       "    </tr>\n",
       "    <tr>\n",
       "      <th>10</th>\n",
       "      <td>sunny</td>\n",
       "      <td>normal</td>\n",
       "      <td>mild</td>\n",
       "      <td>strong</td>\n",
       "      <td>yes</td>\n",
       "    </tr>\n",
       "    <tr>\n",
       "      <th>11</th>\n",
       "      <td>overcast</td>\n",
       "      <td>high</td>\n",
       "      <td>mild</td>\n",
       "      <td>strong</td>\n",
       "      <td>yes</td>\n",
       "    </tr>\n",
       "    <tr>\n",
       "      <th>12</th>\n",
       "      <td>overcast</td>\n",
       "      <td>normal</td>\n",
       "      <td>hot</td>\n",
       "      <td>weak</td>\n",
       "      <td>yes</td>\n",
       "    </tr>\n",
       "    <tr>\n",
       "      <th>13</th>\n",
       "      <td>rainy</td>\n",
       "      <td>high</td>\n",
       "      <td>mild</td>\n",
       "      <td>strong</td>\n",
       "      <td>no</td>\n",
       "    </tr>\n",
       "  </tbody>\n",
       "</table>\n",
       "</div>"
      ],
      "text/plain": [
       "     outlook humidity temperature   windy play_tennis\n",
       "0      sunny     high         hot    weak          no\n",
       "1      sunny     high         hot  strong          no\n",
       "2   overcast     high         hot    weak         yes\n",
       "3      rainy     high        mild    weak         yes\n",
       "4      rainy   normal        cool    weak         yes\n",
       "5      rainy   normal        cool  strong          no\n",
       "6   overcast   normal        cool  strong         yes\n",
       "7      sunny     high        mild    weak          no\n",
       "8      sunny   normal        cool    weak         yes\n",
       "9      rainy   normal        mild    weak         yes\n",
       "10     sunny   normal        mild  strong         yes\n",
       "11  overcast     high        mild  strong         yes\n",
       "12  overcast   normal         hot    weak         yes\n",
       "13     rainy     high        mild  strong          no"
      ]
     },
     "execution_count": 6,
     "metadata": {},
     "output_type": "execute_result"
    }
   ],
   "source": [
    "df"
   ]
  },
  {
   "cell_type": "markdown",
   "metadata": {},
   "source": [
    "- the Possibility (yes)is ->> 9 in column play_tennis \n",
    "\n",
    "# and \n",
    "\n",
    "- the Possibility (no)is ->> 5 in column play_tennis \n",
    "------\n",
    "\n",
    "- so that  total  is 14 \n"
   ]
  },
  {
   "cell_type": "markdown",
   "metadata": {},
   "source": [
    "### law entorpy is (-p /p+n ).log2(p/p+n)-(n/p+n).log2(n/p+n)"
   ]
  },
  {
   "cell_type": "code",
   "execution_count": 7,
   "metadata": {},
   "outputs": [],
   "source": [
    "p=0\n",
    "n=0\n",
    "for outcome in data[\"play_tennis\"]:\n",
    "    if outcome == \"yes\":\n",
    "        p += 1\n",
    "    elif outcome == \"no\":\n",
    "\n",
    "        n += 1"
   ]
  },
  {
   "cell_type": "code",
   "execution_count": 8,
   "metadata": {},
   "outputs": [
    {
     "data": {
      "text/plain": [
       "9"
      ]
     },
     "execution_count": 8,
     "metadata": {},
     "output_type": "execute_result"
    }
   ],
   "source": [
    "p"
   ]
  },
  {
   "cell_type": "code",
   "execution_count": 9,
   "metadata": {},
   "outputs": [
    {
     "data": {
      "text/plain": [
       "5"
      ]
     },
     "execution_count": 9,
     "metadata": {},
     "output_type": "execute_result"
    }
   ],
   "source": [
    "n"
   ]
  },
  {
   "cell_type": "code",
   "execution_count": 10,
   "metadata": {},
   "outputs": [
    {
     "data": {
      "text/plain": [
       "14"
      ]
     },
     "execution_count": 10,
     "metadata": {},
     "output_type": "execute_result"
    }
   ],
   "source": [
    "p+n "
   ]
  },
  {
   "cell_type": "markdown",
   "metadata": {},
   "source": [
    "------------------------\n",
    "\n"
   ]
  },
  {
   "cell_type": "code",
   "execution_count": 11,
   "metadata": {},
   "outputs": [],
   "source": [
    "def entropy(p, n):\n",
    "    if p == 0 or n == 0:\n",
    "        return 0\n",
    "    else:\n",
    "        return -((p/(p+n)) * math.log2(p/(p+n)) + (n/(p+n)) * math.log2(n/(p+n)))\n"
   ]
  },
  {
   "cell_type": "code",
   "execution_count": 12,
   "metadata": {},
   "outputs": [],
   "source": [
    "\n",
    "\n",
    "def avg_entropy_for_all_features(df, target_column):\n",
    "    feature_columns = df.columns[:-1] \n",
    "    avg_entropy_dict = {}\n",
    "\n",
    "    for feature_column in feature_columns:\n",
    "        unique_values = df[feature_column].unique()\n",
    "        feature_avg_entropy = 0\n",
    "\n",
    "        for value in unique_values:\n",
    "            p = df[(df[feature_column] == value) & (df[target_column] == 'yes')].shape[0]\n",
    "            n = df[(df[feature_column] == value) & (df[target_column] == 'no')].shape[0]\n",
    "\n",
    "            value_entropy = entropy(p, n)\n",
    "            feature_avg_entropy += (p + n) / (p + n) * value_entropy\n",
    "\n",
    "        avg_entropy_dict[feature_column] = feature_avg_entropy / len(unique_values)\n",
    "\n",
    "    return avg_entropy_dict\n"
   ]
  },
  {
   "cell_type": "code",
   "execution_count": 13,
   "metadata": {},
   "outputs": [],
   "source": [
    "def gain(entropy, I):\n",
    "    return (entropy - I)\n"
   ]
  },
  {
   "cell_type": "markdown",
   "metadata": {},
   "source": [
    "--------------------\n"
   ]
  },
  {
   "cell_type": "code",
   "execution_count": 14,
   "metadata": {},
   "outputs": [],
   "source": [
    "result = entropy(p , n)\n"
   ]
  },
  {
   "cell_type": "code",
   "execution_count": 15,
   "metadata": {},
   "outputs": [
    {
     "data": {
      "text/plain": [
       "0.9402859586706311"
      ]
     },
     "execution_count": 15,
     "metadata": {},
     "output_type": "execute_result"
    }
   ],
   "source": [
    "result"
   ]
  },
  {
   "cell_type": "markdown",
   "metadata": {},
   "source": [
    "# the entropy(play_tennis) = 0.940"
   ]
  },
  {
   "cell_type": "markdown",
   "metadata": {},
   "source": [
    "------"
   ]
  },
  {
   "cell_type": "code",
   "execution_count": 16,
   "metadata": {},
   "outputs": [
    {
     "data": {
      "text/plain": [
       "array(['sunny', 'overcast', 'rainy'], dtype=object)"
      ]
     },
     "execution_count": 16,
     "metadata": {},
     "output_type": "execute_result"
    }
   ],
   "source": [
    "outlook_values = df[\"outlook\"].unique()\n",
    "outlook_values"
   ]
  },
  {
   "cell_type": "code",
   "execution_count": 17,
   "metadata": {},
   "outputs": [
    {
     "name": "stdout",
     "output_type": "stream",
     "text": [
      "Outlook: sunny, {'Total Yes': 2, 'Total No': 3}\n",
      "Outlook: overcast, {'Total Yes': 4, 'Total No': 0}\n",
      "Outlook: rainy, {'Total Yes': 3, 'Total No': 2}\n",
      "Total Yes for Sunny: 2\n",
      "Total No for Rainy: 2\n"
     ]
    }
   ],
   "source": [
    "unique_values = df[\"outlook\"].unique()\n",
    "data_by_outlook = {}\n",
    "\n",
    "for value in unique_values:\n",
    "    p = df[(df[\"outlook\"] == value) & (df[\"play_tennis\"] == 'yes')].shape[0]\n",
    "    n = df[(df[\"outlook\"] == value) & (df[\"play_tennis\"] == 'no')].shape[0]\n",
    "    \n",
    "    data_by_outlook[value] = {\n",
    "        \"Total Yes\": p,\n",
    "        \"Total No\": n\n",
    "    }\n",
    "\n",
    "for value, data in data_by_outlook.items():\n",
    "    print(f\"Outlook: {value}, {data}\")\n",
    "print(\"Total Yes for Sunny:\", data_by_outlook[\"sunny\"][\"Total Yes\"])\n",
    "print(\"Total No for Rainy:\", data_by_outlook[\"rainy\"][\"Total No\"])\n"
   ]
  },
  {
   "cell_type": "code",
   "execution_count": 18,
   "metadata": {},
   "outputs": [
    {
     "name": "stdout",
     "output_type": "stream",
     "text": [
      "Entropy for sunny: 0.9709505944546686\n",
      "Entropy for overcast: 0\n",
      "Entropy for rainy: 0.9709505944546686\n",
      "Entropy for Sunny: 0.9709505944546686\n",
      "Entropy for Rainy: 0.9709505944546686\n"
     ]
    }
   ],
   "source": [
    "outlook_values = df[\"outlook\"].unique()\n",
    "entropy_results = {}\n",
    "\n",
    "def calculate_entropy_for_category(df, category_column, target_column, category_value):\n",
    "    p = df[(df[category_column] == category_value) & (df[target_column] == 'yes')].shape[0]\n",
    "    n = df[(df[category_column] == category_value) & (df[target_column] == 'no')].shape[0]\n",
    "    return entropy(p, n)\n",
    "\n",
    "for value in outlook_values:\n",
    "    result = calculate_entropy_for_category(df, \"outlook\", \"play_tennis\", value)\n",
    "    entropy_results[value] = result\n",
    "\n",
    "# طباعة النتائج للتحقق\n",
    "for value, result in entropy_results.items():\n",
    "    print(f\"Entropy for {value}: {result}\")\n",
    "\n",
    "# أو يمكنك الوصول إلى النتائج باستخدام المفاتيح\n",
    "print(\"Entropy for Sunny:\", entropy_results[\"sunny\"])\n",
    "print(\"Entropy for Rainy:\", entropy_results[\"rainy\"])\n"
   ]
  },
  {
   "cell_type": "markdown",
   "metadata": {},
   "source": [
    "# the entropy( outlook When the value is (sunny)) =0.9709505944546686\n",
    "# the entropy( outlook When the value is (rainy)) =0.9709505944546686\n",
    "# the entropy( outlook When the value is (overcast)) =0\n"
   ]
  },
  {
   "cell_type": "markdown",
   "metadata": {},
   "source": [
    "-----"
   ]
  },
  {
   "cell_type": "markdown",
   "metadata": {},
   "source": [
    "avg(p,n,x)=p+n / p+n * x"
   ]
  },
  {
   "cell_type": "markdown",
   "metadata": {},
   "source": [
    "xsunny=Total Yes Sunny+Total No Sunny/Total Yes Sunny+Total No Sunny*Entropy Sunny"
   ]
  },
  {
   "cell_type": "markdown",
   "metadata": {},
   "source": [
    "xrainy=Total Yes rainy+Total No rainy/Total Yes rainy+Total No rainy*Entropy rainy"
   ]
  },
  {
   "cell_type": "markdown",
   "metadata": {},
   "source": [
    "\n",
    "# law is  : \n",
    "\n",
    "     p_sunny+n_sunny/p_sunny+n_sunny *entropy(outlook = sunny )\n",
    "+\n",
    "     p_overcast+n_overcast/p_overcast+n_overcast*entropy(outlook = overcast )\n",
    "+\n",
    "     p_rainy+n_rainy/p_rainy+n_rainy*entropy(outlook = rainy )\n",
    " \n"
   ]
  },
  {
   "cell_type": "markdown",
   "metadata": {},
   "source": [
    "------"
   ]
  },
  {
   "cell_type": "code",
   "execution_count": 19,
   "metadata": {},
   "outputs": [
    {
     "name": "stdout",
     "output_type": "stream",
     "text": [
      "1.9419011889093372\n"
     ]
    }
   ],
   "source": [
    "def avg(p, n, x):\n",
    "    return (p + n) / (p + n) * x\n",
    "\n",
    "x_sunny = avg(data_by_outlook[\"sunny\"][\"Total Yes\"], data_by_outlook[\"sunny\"][\"Total No\"], entropy_results[\"sunny\"])\n",
    "x_rainy = avg(data_by_outlook[\"rainy\"][\"Total Yes\"], data_by_outlook[\"rainy\"][\"Total No\"], entropy_results[\"rainy\"])\n",
    "\n",
    "result = x_sunny + x_rainy\n",
    "print(result)\n"
   ]
  },
  {
   "cell_type": "code",
   "execution_count": 20,
   "metadata": {},
   "outputs": [
    {
     "data": {
      "text/plain": [
       "0.9709505944546686"
      ]
     },
     "execution_count": 20,
     "metadata": {},
     "output_type": "execute_result"
    }
   ],
   "source": [
    "x_r = avg(data_by_outlook[\"rainy\"][\"Total Yes\"] ,data_by_outlook[\"rainy\"][\"Total No\"] , entropy_results[\"rainy\"])\n",
    "x_r\n"
   ]
  },
  {
   "cell_type": "code",
   "execution_count": 21,
   "metadata": {},
   "outputs": [
    {
     "data": {
      "text/plain": [
       "1.9419011889093372"
      ]
     },
     "execution_count": 21,
     "metadata": {},
     "output_type": "execute_result"
    }
   ],
   "source": [
    "x_sunny+x_r"
   ]
  },
  {
   "cell_type": "markdown",
   "metadata": {},
   "source": [
    "----"
   ]
  },
  {
   "cell_type": "markdown",
   "metadata": {},
   "source": [
    "-compute gain \n",
    " - entropy(s) - I(attribute)"
   ]
  },
  {
   "cell_type": "code",
   "execution_count": 22,
   "metadata": {},
   "outputs": [],
   "source": [
    "\n",
    "target_column = \"play_tennis\"\n"
   ]
  },
  {
   "cell_type": "code",
   "execution_count": 23,
   "metadata": {},
   "outputs": [
    {
     "name": "stdout",
     "output_type": "stream",
     "text": [
      "outlook:-: 0.6473003963031124\n",
      "humidity:-: 0.7884504573082896\n",
      "temperature:-: 0.9098579861712075\n",
      "windy:-: 0.9056390622295665\n"
     ]
    }
   ],
   "source": [
    "\n",
    "avg_entropy_dict = avg_entropy_for_all_features(df, target_column)\n",
    "for feature, avg_entropy_value in avg_entropy_dict.items():\n",
    "    print(f\"{feature}:-: {avg_entropy_value}\")\n"
   ]
  },
  {
   "cell_type": "code",
   "execution_count": 24,
   "metadata": {},
   "outputs": [],
   "source": [
    "total_p = df[df[target_column] == 'yes'].shape[0]\n",
    "total_n = df[df[target_column] == 'no'].shape[0]\n",
    "total_entropy = entropy(total_p, total_n)\n"
   ]
  },
  {
   "cell_type": "code",
   "execution_count": 25,
   "metadata": {},
   "outputs": [],
   "source": [
    "\n",
    "avg_entropy_dict = avg_entropy_for_all_features(df, target_column)\n",
    "gain_dict = {}\n"
   ]
  },
  {
   "cell_type": "code",
   "execution_count": 26,
   "metadata": {},
   "outputs": [],
   "source": [
    "\n",
    "for feature, avg_entropy_value in avg_entropy_dict.items():\n",
    "    gain_value = gain(total_entropy, avg_entropy_value)\n",
    "    gain_dict[feature] = gain_value\n",
    "\n"
   ]
  },
  {
   "cell_type": "code",
   "execution_count": 27,
   "metadata": {},
   "outputs": [
    {
     "name": "stdout",
     "output_type": "stream",
     "text": [
      "Gain\n",
      "outlook: 0.2929855623675187\n",
      "humidity: 0.15183550136234159\n",
      "temperature: 0.03042797249942364\n",
      "windy: 0.03464689644106467\n"
     ]
    }
   ],
   "source": [
    "print(\"Gain\")\n",
    "for feature, gain_value in gain_dict.items():\n",
    "    print(f\"{feature}: {gain_value}\")"
   ]
  },
  {
   "cell_type": "markdown",
   "metadata": {},
   "source": [
    "-------------------------"
   ]
  },
  {
   "cell_type": "markdown",
   "metadata": {},
   "source": [
    "## We will choose the largest value to put as the root in the decision tree because we are looking for the largest value present in gain in order to choose the most appropriate column."
   ]
  },
  {
   "cell_type": "markdown",
   "metadata": {},
   "source": [
    "-------------------------"
   ]
  },
  {
   "cell_type": "markdown",
   "metadata": {},
   "source": [
    "the root node : \n",
    "  ## (outlook )"
   ]
  },
  {
   "cell_type": "markdown",
   "metadata": {},
   "source": [
    "--------------------"
   ]
  },
  {
   "cell_type": "markdown",
   "metadata": {},
   "source": [
    "and the next node  is : \n",
    "# (humidity)\n",
    "\n"
   ]
  },
  {
   "cell_type": "markdown",
   "metadata": {},
   "source": [
    "---------------------"
   ]
  },
  {
   "cell_type": "markdown",
   "metadata": {},
   "source": [
    "and the next node is : \n",
    "# (windy)"
   ]
  },
  {
   "cell_type": "markdown",
   "metadata": {},
   "source": [
    "-----"
   ]
  },
  {
   "cell_type": "markdown",
   "metadata": {},
   "source": [
    "and the next node is :\n",
    "# (temperature)"
   ]
  },
  {
   "cell_type": "markdown",
   "metadata": {},
   "source": [
    "-----"
   ]
  },
  {
   "cell_type": "markdown",
   "metadata": {},
   "source": [
    "So, gain chooses the nodes according to the largest value to the smallest value that emerges from the data."
   ]
  }
 ],
 "metadata": {
  "kernelspec": {
   "display_name": "base",
   "language": "python",
   "name": "python3"
  },
  "language_info": {
   "codemirror_mode": {
    "name": "ipython",
    "version": 3
   },
   "file_extension": ".py",
   "mimetype": "text/x-python",
   "name": "python",
   "nbconvert_exporter": "python",
   "pygments_lexer": "ipython3",
   "version": "3.11.4"
  },
  "orig_nbformat": 4
 },
 "nbformat": 4,
 "nbformat_minor": 2
}
